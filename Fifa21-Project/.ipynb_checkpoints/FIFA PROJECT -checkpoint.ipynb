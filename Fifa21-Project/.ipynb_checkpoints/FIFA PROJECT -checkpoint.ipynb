{
 "cells": [
  {
   "cell_type": "code",
   "execution_count": 1,
   "id": "8b1c7f14",
   "metadata": {},
   "outputs": [
    {
     "data": {
      "text/plain": [
       "(11701, 101)"
      ]
     },
     "execution_count": 1,
     "metadata": {},
     "output_type": "execute_result"
    }
   ],
   "source": [
    "#Creating the dataframe\n",
    "import pandas as pd\n",
    "data = pd.read_csv('fifa21_train.csv')\n",
    "data.shape"
   ]
  },
  {
   "cell_type": "code",
   "execution_count": 2,
   "id": "0cd9769f",
   "metadata": {},
   "outputs": [
    {
     "data": {
      "text/plain": [
       "(11701, 60)"
      ]
     },
     "execution_count": 2,
     "metadata": {},
     "output_type": "execute_result"
    }
   ],
   "source": [
    "#dropping columns that we won't use for the model\n",
    "\n",
    "data = data.drop(['Team & Contract', 'Growth','Joined','Loan Date End','Contract','A/W','D/W','LS','ST','RS','LW','LF','CF','RF','RW','LAM','CAM','RAM','LM','LCM','CM','RCM','RM','LWB','LDM','CDM','RDM','RWB','LB','LCB','CB','RCB','RB','GK','Nationality', 'Club', 'Position', 'Height',\n",
    "       'foot', 'Hits', 'Weight',], axis=1)\n",
    "data.shape\n"
   ]
  },
  {
   "cell_type": "code",
   "execution_count": 3,
   "id": "80db85f8",
   "metadata": {
    "scrolled": false
   },
   "outputs": [
    {
     "data": {
      "text/plain": [
       "ID                    0\n",
       "Name                  0\n",
       "Age                   0\n",
       "BP                    0\n",
       "Value                 0\n",
       "Wage                  0\n",
       "Release Clause        0\n",
       "Attacking             0\n",
       "Crossing              0\n",
       "Finishing             0\n",
       "Heading Accuracy      0\n",
       "Short Passing         0\n",
       "Volleys              41\n",
       "Skill                 0\n",
       "Dribbling             0\n",
       "Curve                41\n",
       "FK Accuracy           0\n",
       "Long Passing          0\n",
       "Ball Control          0\n",
       "Movement              0\n",
       "Acceleration          0\n",
       "Sprint Speed          0\n",
       "Agility              41\n",
       "Reactions             0\n",
       "Balance              41\n",
       "Power                 0\n",
       "Shot Power            0\n",
       "Jumping              41\n",
       "Stamina               0\n",
       "Strength              0\n",
       "Long Shots            0\n",
       "Mentality             0\n",
       "Aggression            0\n",
       "Interceptions         7\n",
       "Positioning           7\n",
       "Vision               41\n",
       "Penalties             0\n",
       "Composure           279\n",
       "Defending             0\n",
       "Marking               0\n",
       "Standing Tackle       0\n",
       "Sliding Tackle       41\n",
       "Goalkeeping           0\n",
       "GK Diving             0\n",
       "GK Handling           0\n",
       "GK Kicking            0\n",
       "GK Positioning        0\n",
       "GK Reflexes           0\n",
       "Total Stats           0\n",
       "Base Stats            0\n",
       "W/F                   0\n",
       "SM                    0\n",
       "IR                    0\n",
       "PAC                   0\n",
       "SHO                   0\n",
       "PAS                   0\n",
       "DRI                   0\n",
       "DEF                   0\n",
       "PHY                   0\n",
       "OVA                   0\n",
       "dtype: int64"
      ]
     },
     "metadata": {},
     "output_type": "display_data"
    }
   ],
   "source": [
    "# checking NaN Values\n",
    "\n",
    "pd.set_option('display.max_rows',62)\n",
    "display(data.isna().sum())"
   ]
  },
  {
   "cell_type": "code",
   "execution_count": 4,
   "id": "04382825",
   "metadata": {},
   "outputs": [
    {
     "data": {
      "text/plain": [
       "(11422, 60)"
      ]
     },
     "execution_count": 4,
     "metadata": {},
     "output_type": "execute_result"
    }
   ],
   "source": [
    "# After see that the NaN are few compare with the dataframe, we have decide to drop all rows with NAN values\n",
    "\n",
    "data2=data.dropna(axis=0)\n",
    "data2.shape"
   ]
  },
  {
   "cell_type": "code",
   "execution_count": 5,
   "id": "6d668bcd",
   "metadata": {},
   "outputs": [],
   "source": [
    "#Dealing with headers\n",
    "\n",
    "cols = []\n",
    "for column in data2.columns:\n",
    "    cols.append(column.lower())\n",
    "data2.columns = cols\n",
    "\n",
    "cols = []\n",
    "for column in data2.columns:\n",
    "    cols.append(column.replace(' ','_'))\n",
    "data2.columns = cols"
   ]
  },
  {
   "cell_type": "code",
   "execution_count": 6,
   "id": "fba8f3aa",
   "metadata": {},
   "outputs": [
    {
     "name": "stderr",
     "output_type": "stream",
     "text": [
      "/var/folders/0r/l856hq9x61zf5p8g8vxjs_dh0000gn/T/ipykernel_4093/1339054239.py:3: SettingWithCopyWarning: \n",
      "A value is trying to be set on a copy of a slice from a DataFrame.\n",
      "Try using .loc[row_indexer,col_indexer] = value instead\n",
      "\n",
      "See the caveats in the documentation: https://pandas.pydata.org/pandas-docs/stable/user_guide/indexing.html#returning-a-view-versus-a-copy\n",
      "  data2['ir']= data2['ir'].str.replace('★','')\n",
      "/var/folders/0r/l856hq9x61zf5p8g8vxjs_dh0000gn/T/ipykernel_4093/1339054239.py:4: SettingWithCopyWarning: \n",
      "A value is trying to be set on a copy of a slice from a DataFrame.\n",
      "Try using .loc[row_indexer,col_indexer] = value instead\n",
      "\n",
      "See the caveats in the documentation: https://pandas.pydata.org/pandas-docs/stable/user_guide/indexing.html#returning-a-view-versus-a-copy\n",
      "  data2['sm']= data2['sm'].str.replace('★','')\n",
      "/var/folders/0r/l856hq9x61zf5p8g8vxjs_dh0000gn/T/ipykernel_4093/1339054239.py:5: SettingWithCopyWarning: \n",
      "A value is trying to be set on a copy of a slice from a DataFrame.\n",
      "Try using .loc[row_indexer,col_indexer] = value instead\n",
      "\n",
      "See the caveats in the documentation: https://pandas.pydata.org/pandas-docs/stable/user_guide/indexing.html#returning-a-view-versus-a-copy\n",
      "  data2['w/f']= data2['w/f'].str.replace('★','')\n",
      "/var/folders/0r/l856hq9x61zf5p8g8vxjs_dh0000gn/T/ipykernel_4093/1339054239.py:8: SettingWithCopyWarning: \n",
      "A value is trying to be set on a copy of a slice from a DataFrame.\n",
      "Try using .loc[row_indexer,col_indexer] = value instead\n",
      "\n",
      "See the caveats in the documentation: https://pandas.pydata.org/pandas-docs/stable/user_guide/indexing.html#returning-a-view-versus-a-copy\n",
      "  data2[[\"ir\", \"sm\", 'w/f']] = data2[[\"ir\", \"sm\", 'w/f']].apply(pd.to_numeric)\n"
     ]
    }
   ],
   "source": [
    "# we converted some data into number to have more insights\n",
    "\n",
    "data2['ir']= data2['ir'].str.replace('★','')\n",
    "data2['sm']= data2['sm'].str.replace('★','')\n",
    "data2['w/f']= data2['w/f'].str.replace('★','')\n",
    "\n",
    "\n",
    "data2[[\"ir\", \"sm\", 'w/f']] = data2[[\"ir\", \"sm\", 'w/f']].apply(pd.to_numeric)"
   ]
  },
  {
   "cell_type": "code",
   "execution_count": 7,
   "id": "cf9d29b7",
   "metadata": {},
   "outputs": [
    {
     "name": "stderr",
     "output_type": "stream",
     "text": [
      "/var/folders/0r/l856hq9x61zf5p8g8vxjs_dh0000gn/T/ipykernel_4093/3461610957.py:3: SettingWithCopyWarning: \n",
      "A value is trying to be set on a copy of a slice from a DataFrame.\n",
      "Try using .loc[row_indexer,col_indexer] = value instead\n",
      "\n",
      "See the caveats in the documentation: https://pandas.pydata.org/pandas-docs/stable/user_guide/indexing.html#returning-a-view-versus-a-copy\n",
      "  data2['value'] = data2['value'].replace({'€': '', ' ': '', 'M': 'e+06', 'K': 'e+03'}, regex=True).astype(float).astype(int)\n",
      "/var/folders/0r/l856hq9x61zf5p8g8vxjs_dh0000gn/T/ipykernel_4093/3461610957.py:4: SettingWithCopyWarning: \n",
      "A value is trying to be set on a copy of a slice from a DataFrame.\n",
      "Try using .loc[row_indexer,col_indexer] = value instead\n",
      "\n",
      "See the caveats in the documentation: https://pandas.pydata.org/pandas-docs/stable/user_guide/indexing.html#returning-a-view-versus-a-copy\n",
      "  data2['wage'] = data2['wage'].replace({'€': '', ' ': '', 'M': 'e+06', 'K': 'e+03'}, regex=True).astype(float).astype(int)\n",
      "/var/folders/0r/l856hq9x61zf5p8g8vxjs_dh0000gn/T/ipykernel_4093/3461610957.py:5: SettingWithCopyWarning: \n",
      "A value is trying to be set on a copy of a slice from a DataFrame.\n",
      "Try using .loc[row_indexer,col_indexer] = value instead\n",
      "\n",
      "See the caveats in the documentation: https://pandas.pydata.org/pandas-docs/stable/user_guide/indexing.html#returning-a-view-versus-a-copy\n",
      "  data2['release_clause'] = data2['release_clause'].replace({'€': '', ' ': '', 'M': 'e+06', 'K': 'e+03'}, regex=True).astype(float).astype(int)\n"
     ]
    }
   ],
   "source": [
    "# Convert vale, wage and release clause into numbers. \n",
    "\n",
    "data2['value'] = data2['value'].replace({'€': '', ' ': '', 'M': 'e+06', 'K': 'e+03'}, regex=True).astype(float).astype(int)\n",
    "data2['wage'] = data2['wage'].replace({'€': '', ' ': '', 'M': 'e+06', 'K': 'e+03'}, regex=True).astype(float).astype(int)\n",
    "data2['release_clause'] = data2['release_clause'].replace({'€': '', ' ': '', 'M': 'e+06', 'K': 'e+03'}, regex=True).astype(float).astype(int)"
   ]
  },
  {
   "cell_type": "code",
   "execution_count": 8,
   "id": "f57cf029",
   "metadata": {},
   "outputs": [
    {
     "data": {
      "text/plain": [
       "Index(['id', 'age', 'value', 'wage', 'release_clause', 'attacking', 'crossing',\n",
       "       'finishing', 'heading_accuracy', 'short_passing', 'volleys', 'skill',\n",
       "       'dribbling', 'curve', 'fk_accuracy', 'long_passing', 'ball_control',\n",
       "       'movement', 'acceleration', 'sprint_speed', 'agility', 'reactions',\n",
       "       'balance', 'power', 'shot_power', 'jumping', 'stamina', 'strength',\n",
       "       'long_shots', 'mentality', 'aggression', 'interceptions', 'positioning',\n",
       "       'vision', 'penalties', 'composure', 'defending', 'marking',\n",
       "       'standing_tackle', 'sliding_tackle', 'goalkeeping', 'gk_diving',\n",
       "       'gk_handling', 'gk_kicking', 'gk_positioning', 'gk_reflexes',\n",
       "       'total_stats', 'base_stats', 'w/f', 'sm', 'ir', 'pac', 'sho', 'pas',\n",
       "       'dri', 'def', 'phy', 'ova'],\n",
       "      dtype='object')"
      ]
     },
     "execution_count": 8,
     "metadata": {},
     "output_type": "execute_result"
    }
   ],
   "source": [
    "#Create the numerical variable\n",
    "\n",
    "numerical = data2.select_dtypes(include=['int', 'float'])\n",
    "\n",
    "numerical.columns"
   ]
  },
  {
   "cell_type": "code",
   "execution_count": 9,
   "id": "875f8f41",
   "metadata": {},
   "outputs": [
    {
     "data": {
      "text/plain": [
       "Index(['name', 'bp'], dtype='object')"
      ]
     },
     "execution_count": 9,
     "metadata": {},
     "output_type": "execute_result"
    }
   ],
   "source": [
    "# Saving categorical data for filtering purposes if it's need it\n",
    "\n",
    "categorical = data2.select_dtypes(include=['object'])\n",
    "categorical.columns\n"
   ]
  },
  {
   "cell_type": "code",
   "execution_count": 10,
   "id": "bfb2b7d4",
   "metadata": {},
   "outputs": [],
   "source": [
    "# Setting up X and Y\n",
    "\n",
    "import numpy as np\n",
    "from sklearn import linear_model\n",
    "from sklearn.metrics import mean_squared_error, r2_score\n",
    "from sklearn.preprocessing import OneHotEncoder\n",
    "from sklearn.model_selection import train_test_split\n",
    "from sklearn.preprocessing import MinMaxScaler\n",
    "from sklearn.metrics import mean_absolute_error, r2_score\n",
    "from sklearn.metrics import r2_score\n",
    "\n",
    "y = numerical['ova']\n",
    "X = numerical.drop(['ova'], axis=1)\n",
    "X_num = X\n"
   ]
  },
  {
   "cell_type": "code",
   "execution_count": 11,
   "id": "e74627c1",
   "metadata": {},
   "outputs": [],
   "source": [
    "# Normalization.\n",
    "\n",
    "transformer = MinMaxScaler().fit(X_num)\n",
    "X_normalized = transformer.transform(X_num)\n",
    "X_normalized = pd.DataFrame(X_normalized, columns=X_num.columns)\n"
   ]
  },
  {
   "cell_type": "code",
   "execution_count": 12,
   "id": "83e8a813",
   "metadata": {},
   "outputs": [
    {
     "data": {
      "text/plain": [
       "(11422, 57)"
      ]
     },
     "execution_count": 12,
     "metadata": {},
     "output_type": "execute_result"
    }
   ],
   "source": [
    "X_normalized.shape"
   ]
  },
  {
   "cell_type": "code",
   "execution_count": 13,
   "id": "3dfefbe8",
   "metadata": {},
   "outputs": [],
   "source": [
    "# Splitting into train set and test set.\n",
    "\n",
    "X_train, X_test, y_train, y_test = train_test_split(X_normalized, y, test_size=0.2)\n"
   ]
  },
  {
   "cell_type": "code",
   "execution_count": 14,
   "id": "5587563d",
   "metadata": {},
   "outputs": [
    {
     "data": {
      "text/plain": [
       "LinearRegression()"
      ]
     },
     "execution_count": 14,
     "metadata": {},
     "output_type": "execute_result"
    }
   ],
   "source": [
    "# Apply model.\n",
    "\n",
    "lm = linear_model.LinearRegression()\n",
    "lm.fit(X_train,y_train)\n"
   ]
  },
  {
   "cell_type": "code",
   "execution_count": 15,
   "id": "d48a2ead",
   "metadata": {},
   "outputs": [
    {
     "data": {
      "text/plain": [
       "array([85.83719635, 62.55739212, 77.55451202, ..., 65.37989807,\n",
       "       64.42066193, 78.61927032])"
      ]
     },
     "execution_count": 15,
     "metadata": {},
     "output_type": "execute_result"
    }
   ],
   "source": [
    "## Model Validation\n",
    "\n",
    "predictions_test = lm.predict(X_test)\n",
    "predictions_test\n",
    "\n"
   ]
  },
  {
   "cell_type": "code",
   "execution_count": 16,
   "id": "9679b2d0",
   "metadata": {},
   "outputs": [
    {
     "name": "stdout",
     "output_type": "stream",
     "text": [
      "R2 is 0.9094194994166394\n",
      "MSE is 4.339414260252527\n",
      "RMSE is 2.083126078818209\n",
      "MAE is 1.6293135695175738\n"
     ]
    }
   ],
   "source": [
    "#R2\n",
    "r2 = r2_score(y_test, predictions_test)\n",
    "\n",
    "print('R2 is',r2)\n",
    "\n",
    "#MSE\n",
    "mse=mean_squared_error(y_test,predictions_test)\n",
    "print('MSE is',mse)\n",
    "\n",
    "#RMSE\n",
    "rmse = np.sqrt(mean_squared_error(y_test,predictions_test))\n",
    "print('RMSE is',rmse)\n",
    "\n",
    "#MAE\n",
    "mae = mean_absolute_error(y_test, predictions_test)\n",
    "print('MAE is',mae)"
   ]
  },
  {
   "cell_type": "markdown",
   "id": "4a490ad5",
   "metadata": {},
   "source": [
    "## New Dataframe"
   ]
  },
  {
   "cell_type": "code",
   "execution_count": 17,
   "id": "e12106a4",
   "metadata": {},
   "outputs": [
    {
     "data": {
      "text/plain": [
       "(1999, 101)"
      ]
     },
     "execution_count": 17,
     "metadata": {},
     "output_type": "execute_result"
    }
   ],
   "source": [
    "# First we are going to import the information from the new file:\n",
    "\n",
    "data3 = pd.read_csv('fifa21_validate.csv')\n",
    "data3.shape"
   ]
  },
  {
   "cell_type": "code",
   "execution_count": 18,
   "id": "0da04d9c",
   "metadata": {},
   "outputs": [
    {
     "data": {
      "text/plain": [
       "(1999, 60)"
      ]
     },
     "execution_count": 18,
     "metadata": {},
     "output_type": "execute_result"
    }
   ],
   "source": [
    "#dropping columns that we won't use for the model\n",
    "\n",
    "data3 = data3.drop(['Team & Contract', 'Growth','Joined','Loan Date End','Contract','A/W','D/W','LS','ST','RS','LW','LF','CF','RF','RW','LAM','CAM','RAM','LM','LCM','CM','RCM','RM','LWB','LDM','CDM','RDM','RWB','LB','LCB','CB','RCB','RB','GK','Nationality', 'Club', 'Position', 'Height',\n",
    "       'foot', 'Hits', 'Weight',], axis=1)\n",
    "data3.shape\n"
   ]
  },
  {
   "cell_type": "code",
   "execution_count": 19,
   "id": "35be4896",
   "metadata": {},
   "outputs": [
    {
     "data": {
      "text/plain": [
       "ID                   0\n",
       "Name                 0\n",
       "Age                  0\n",
       "BP                   0\n",
       "Value                0\n",
       "Wage                 0\n",
       "Release Clause       0\n",
       "Attacking            0\n",
       "Crossing             0\n",
       "Finishing            0\n",
       "Heading Accuracy     0\n",
       "Short Passing        0\n",
       "Volleys              3\n",
       "Skill                0\n",
       "Dribbling            0\n",
       "Curve                3\n",
       "FK Accuracy          0\n",
       "Long Passing         0\n",
       "Ball Control         0\n",
       "Movement             0\n",
       "Acceleration         0\n",
       "Sprint Speed         0\n",
       "Agility              3\n",
       "Reactions            0\n",
       "Balance              3\n",
       "Power                0\n",
       "Shot Power           0\n",
       "Jumping              3\n",
       "Stamina              0\n",
       "Strength             0\n",
       "Long Shots           0\n",
       "Mentality            0\n",
       "Aggression           0\n",
       "Interceptions        0\n",
       "Positioning          0\n",
       "Vision               3\n",
       "Penalties            0\n",
       "Composure           50\n",
       "Defending            0\n",
       "Marking              0\n",
       "Standing Tackle      0\n",
       "Sliding Tackle       3\n",
       "Goalkeeping          0\n",
       "GK Diving            0\n",
       "GK Handling          0\n",
       "GK Kicking           0\n",
       "GK Positioning       0\n",
       "GK Reflexes          0\n",
       "Total Stats          0\n",
       "Base Stats           0\n",
       "W/F                  0\n",
       "SM                   0\n",
       "IR                   0\n",
       "PAC                  0\n",
       "SHO                  0\n",
       "PAS                  0\n",
       "DRI                  0\n",
       "DEF                  0\n",
       "PHY                  0\n",
       "OVA                  0\n",
       "dtype: int64"
      ]
     },
     "metadata": {},
     "output_type": "display_data"
    }
   ],
   "source": [
    "pd.set_option('display.max_rows',60)\n",
    "display(data3.isna().sum())"
   ]
  },
  {
   "cell_type": "code",
   "execution_count": 20,
   "id": "54891d1f",
   "metadata": {},
   "outputs": [
    {
     "data": {
      "text/plain": [
       "(1949, 60)"
      ]
     },
     "execution_count": 20,
     "metadata": {},
     "output_type": "execute_result"
    }
   ],
   "source": [
    "# After see that the NaN are few compare with the dataframe, we have decide to drop all rows with NAN values\n",
    "\n",
    "data4=data3.dropna(axis=0)\n",
    "data4.shape\n"
   ]
  },
  {
   "cell_type": "code",
   "execution_count": 21,
   "id": "a44d47d7",
   "metadata": {},
   "outputs": [],
   "source": [
    "#Dealing with headers\n",
    "\n",
    "cols = []\n",
    "for column in data4.columns:\n",
    "    cols.append(column.lower())\n",
    "data4.columns = cols\n",
    "\n",
    "cols = []\n",
    "for column in data4.columns:\n",
    "    cols.append(column.replace(' ','_'))\n",
    "data4.columns = cols"
   ]
  },
  {
   "cell_type": "code",
   "execution_count": 22,
   "id": "51cf06a7",
   "metadata": {},
   "outputs": [
    {
     "name": "stderr",
     "output_type": "stream",
     "text": [
      "/var/folders/0r/l856hq9x61zf5p8g8vxjs_dh0000gn/T/ipykernel_4093/2856755566.py:3: SettingWithCopyWarning: \n",
      "A value is trying to be set on a copy of a slice from a DataFrame.\n",
      "Try using .loc[row_indexer,col_indexer] = value instead\n",
      "\n",
      "See the caveats in the documentation: https://pandas.pydata.org/pandas-docs/stable/user_guide/indexing.html#returning-a-view-versus-a-copy\n",
      "  data4['ir']= data4['ir'].str.replace('★','')\n",
      "/var/folders/0r/l856hq9x61zf5p8g8vxjs_dh0000gn/T/ipykernel_4093/2856755566.py:4: SettingWithCopyWarning: \n",
      "A value is trying to be set on a copy of a slice from a DataFrame.\n",
      "Try using .loc[row_indexer,col_indexer] = value instead\n",
      "\n",
      "See the caveats in the documentation: https://pandas.pydata.org/pandas-docs/stable/user_guide/indexing.html#returning-a-view-versus-a-copy\n",
      "  data4['sm']= data4['sm'].str.replace('★','')\n",
      "/var/folders/0r/l856hq9x61zf5p8g8vxjs_dh0000gn/T/ipykernel_4093/2856755566.py:5: SettingWithCopyWarning: \n",
      "A value is trying to be set on a copy of a slice from a DataFrame.\n",
      "Try using .loc[row_indexer,col_indexer] = value instead\n",
      "\n",
      "See the caveats in the documentation: https://pandas.pydata.org/pandas-docs/stable/user_guide/indexing.html#returning-a-view-versus-a-copy\n",
      "  data4['w/f']= data4['w/f'].str.replace('★','')\n",
      "/var/folders/0r/l856hq9x61zf5p8g8vxjs_dh0000gn/T/ipykernel_4093/2856755566.py:8: SettingWithCopyWarning: \n",
      "A value is trying to be set on a copy of a slice from a DataFrame.\n",
      "Try using .loc[row_indexer,col_indexer] = value instead\n",
      "\n",
      "See the caveats in the documentation: https://pandas.pydata.org/pandas-docs/stable/user_guide/indexing.html#returning-a-view-versus-a-copy\n",
      "  data4[[\"ir\", \"sm\", 'w/f']] = data4[[\"ir\", \"sm\", 'w/f']].apply(pd.to_numeric)\n"
     ]
    }
   ],
   "source": [
    "# we converted some data into number to have more insights\n",
    "\n",
    "data4['ir']= data4['ir'].str.replace('★','')\n",
    "data4['sm']= data4['sm'].str.replace('★','')\n",
    "data4['w/f']= data4['w/f'].str.replace('★','')\n",
    "\n",
    "\n",
    "data4[[\"ir\", \"sm\", 'w/f']] = data4[[\"ir\", \"sm\", 'w/f']].apply(pd.to_numeric)"
   ]
  },
  {
   "cell_type": "code",
   "execution_count": 23,
   "id": "746d5086",
   "metadata": {},
   "outputs": [
    {
     "name": "stderr",
     "output_type": "stream",
     "text": [
      "/var/folders/0r/l856hq9x61zf5p8g8vxjs_dh0000gn/T/ipykernel_4093/2681398967.py:1: SettingWithCopyWarning: \n",
      "A value is trying to be set on a copy of a slice from a DataFrame.\n",
      "Try using .loc[row_indexer,col_indexer] = value instead\n",
      "\n",
      "See the caveats in the documentation: https://pandas.pydata.org/pandas-docs/stable/user_guide/indexing.html#returning-a-view-versus-a-copy\n",
      "  data4['value'] = data4['value'].replace({'€': '', ' ': '', 'M': 'e+06', 'K': 'e+03'}, regex=True).astype(float).astype(int)\n",
      "/var/folders/0r/l856hq9x61zf5p8g8vxjs_dh0000gn/T/ipykernel_4093/2681398967.py:2: SettingWithCopyWarning: \n",
      "A value is trying to be set on a copy of a slice from a DataFrame.\n",
      "Try using .loc[row_indexer,col_indexer] = value instead\n",
      "\n",
      "See the caveats in the documentation: https://pandas.pydata.org/pandas-docs/stable/user_guide/indexing.html#returning-a-view-versus-a-copy\n",
      "  data4['wage'] = data4['wage'].replace({'€': '', ' ': '', 'M': 'e+06', 'K': 'e+03'}, regex=True).astype(float).astype(int)\n",
      "/var/folders/0r/l856hq9x61zf5p8g8vxjs_dh0000gn/T/ipykernel_4093/2681398967.py:3: SettingWithCopyWarning: \n",
      "A value is trying to be set on a copy of a slice from a DataFrame.\n",
      "Try using .loc[row_indexer,col_indexer] = value instead\n",
      "\n",
      "See the caveats in the documentation: https://pandas.pydata.org/pandas-docs/stable/user_guide/indexing.html#returning-a-view-versus-a-copy\n",
      "  data4['release_clause'] = data4['release_clause'].replace({'€': '', ' ': '', 'M': 'e+06', 'K': 'e+03'}, regex=True).astype(float).astype(int)\n"
     ]
    }
   ],
   "source": [
    "data4['value'] = data4['value'].replace({'€': '', ' ': '', 'M': 'e+06', 'K': 'e+03'}, regex=True).astype(float).astype(int)\n",
    "data4['wage'] = data4['wage'].replace({'€': '', ' ': '', 'M': 'e+06', 'K': 'e+03'}, regex=True).astype(float).astype(int)\n",
    "data4['release_clause'] = data4['release_clause'].replace({'€': '', ' ': '', 'M': 'e+06', 'K': 'e+03'}, regex=True).astype(float).astype(int)"
   ]
  },
  {
   "cell_type": "code",
   "execution_count": 24,
   "id": "4171de02",
   "metadata": {},
   "outputs": [
    {
     "data": {
      "text/plain": [
       "id                    int64\n",
       "name                 object\n",
       "age                   int64\n",
       "bp                   object\n",
       "value                 int64\n",
       "wage                  int64\n",
       "release_clause        int64\n",
       "attacking             int64\n",
       "crossing              int64\n",
       "finishing             int64\n",
       "heading_accuracy      int64\n",
       "short_passing         int64\n",
       "volleys             float64\n",
       "skill                 int64\n",
       "dribbling             int64\n",
       "curve               float64\n",
       "fk_accuracy           int64\n",
       "long_passing          int64\n",
       "ball_control          int64\n",
       "movement              int64\n",
       "acceleration          int64\n",
       "sprint_speed          int64\n",
       "agility             float64\n",
       "reactions             int64\n",
       "balance             float64\n",
       "power                 int64\n",
       "shot_power            int64\n",
       "jumping             float64\n",
       "stamina               int64\n",
       "strength              int64\n",
       "long_shots            int64\n",
       "mentality             int64\n",
       "aggression            int64\n",
       "interceptions       float64\n",
       "positioning         float64\n",
       "vision              float64\n",
       "penalties             int64\n",
       "composure           float64\n",
       "defending             int64\n",
       "marking               int64\n",
       "standing_tackle       int64\n",
       "sliding_tackle      float64\n",
       "goalkeeping           int64\n",
       "gk_diving             int64\n",
       "gk_handling           int64\n",
       "gk_kicking            int64\n",
       "gk_positioning        int64\n",
       "gk_reflexes           int64\n",
       "total_stats           int64\n",
       "base_stats            int64\n",
       "w/f                   int64\n",
       "sm                    int64\n",
       "ir                    int64\n",
       "pac                   int64\n",
       "sho                   int64\n",
       "pas                   int64\n",
       "dri                   int64\n",
       "def                   int64\n",
       "phy                   int64\n",
       "ova                   int64\n",
       "dtype: object"
      ]
     },
     "execution_count": 24,
     "metadata": {},
     "output_type": "execute_result"
    }
   ],
   "source": [
    "#Checking\n",
    "\n",
    "data4.dtypes"
   ]
  },
  {
   "cell_type": "code",
   "execution_count": null,
   "id": "9421406f",
   "metadata": {},
   "outputs": [],
   "source": []
  },
  {
   "cell_type": "code",
   "execution_count": 25,
   "id": "fa85145c",
   "metadata": {},
   "outputs": [
    {
     "data": {
      "text/plain": [
       "Index(['id', 'age', 'value', 'wage', 'release_clause', 'attacking', 'crossing',\n",
       "       'finishing', 'heading_accuracy', 'short_passing', 'volleys', 'skill',\n",
       "       'dribbling', 'curve', 'fk_accuracy', 'long_passing', 'ball_control',\n",
       "       'movement', 'acceleration', 'sprint_speed', 'agility', 'reactions',\n",
       "       'balance', 'power', 'shot_power', 'jumping', 'stamina', 'strength',\n",
       "       'long_shots', 'mentality', 'aggression', 'interceptions', 'positioning',\n",
       "       'vision', 'penalties', 'composure', 'defending', 'marking',\n",
       "       'standing_tackle', 'sliding_tackle', 'goalkeeping', 'gk_diving',\n",
       "       'gk_handling', 'gk_kicking', 'gk_positioning', 'gk_reflexes',\n",
       "       'total_stats', 'base_stats', 'w/f', 'sm', 'ir', 'pac', 'sho', 'pas',\n",
       "       'dri', 'def', 'phy', 'ova'],\n",
       "      dtype='object')"
      ]
     },
     "execution_count": 25,
     "metadata": {},
     "output_type": "execute_result"
    }
   ],
   "source": [
    "numerical = data4.select_dtypes(include=['int', 'float'])\n",
    "numerical.columns"
   ]
  },
  {
   "cell_type": "code",
   "execution_count": 26,
   "id": "a7169309",
   "metadata": {},
   "outputs": [
    {
     "data": {
      "text/plain": [
       "Index(['name', 'bp'], dtype='object')"
      ]
     },
     "execution_count": 26,
     "metadata": {},
     "output_type": "execute_result"
    }
   ],
   "source": [
    "categorical = data4.select_dtypes(include=['object'])\n",
    "categorical.columns"
   ]
  },
  {
   "cell_type": "code",
   "execution_count": 27,
   "id": "3099fa1c",
   "metadata": {},
   "outputs": [],
   "source": [
    "# Setting up X and Y\n",
    "\n",
    "y2 = numerical['ova']\n",
    "X2 = numerical.drop(['ova'], axis=1)\n",
    "X_num2 = X2\n"
   ]
  },
  {
   "cell_type": "code",
   "execution_count": 28,
   "id": "79778de3",
   "metadata": {},
   "outputs": [],
   "source": [
    "# Normalization.\n",
    "\n",
    "X_normalized2 = transformer.transform(X_num2)\n",
    "X_normalized2 = pd.DataFrame(X_normalized2, columns=X_num2.columns)\n"
   ]
  },
  {
   "cell_type": "code",
   "execution_count": 29,
   "id": "76401fdb",
   "metadata": {},
   "outputs": [
    {
     "data": {
      "text/plain": [
       "(1949, 57)"
      ]
     },
     "execution_count": 29,
     "metadata": {},
     "output_type": "execute_result"
    }
   ],
   "source": [
    "X_normalized2.shape"
   ]
  },
  {
   "cell_type": "code",
   "execution_count": 30,
   "id": "359d2ff8",
   "metadata": {},
   "outputs": [
    {
     "data": {
      "text/plain": [
       "array([64.81090164, 64.86037445, 54.08098984, ..., 72.45205307,\n",
       "       65.4447937 , 61.8190918 ])"
      ]
     },
     "execution_count": 30,
     "metadata": {},
     "output_type": "execute_result"
    }
   ],
   "source": [
    "predictions_test2 = lm.predict(X_normalized2)\n",
    "\n",
    "predictions_test2"
   ]
  },
  {
   "cell_type": "code",
   "execution_count": 31,
   "id": "a4ce8b6b",
   "metadata": {},
   "outputs": [
    {
     "name": "stdout",
     "output_type": "stream",
     "text": [
      "R2 is 0.9064040810951773\n",
      "MSE is 4.23429067490617\n",
      "RMSE is 2.0577392145036675\n",
      "MAE is 1.6157721690241038\n"
     ]
    }
   ],
   "source": [
    "\n",
    "#R2\n",
    "\n",
    "r2 = r2_score(y2, predictions_test2)\n",
    "\n",
    "print('R2 is',r2)\n",
    "\n",
    "#MSE\n",
    "mse=mean_squared_error(y2,predictions_test2)\n",
    "print('MSE is',mse)\n",
    "\n",
    "#RMSE\n",
    "rmse = np.sqrt(mean_squared_error(y2,predictions_test2))\n",
    "print('RMSE is',rmse)\n",
    "\n",
    "#MAE\n",
    "mae = mean_absolute_error(y2, predictions_test2)\n",
    "print('MAE is',mae)"
   ]
  },
  {
   "cell_type": "code",
   "execution_count": null,
   "id": "0ec097c5",
   "metadata": {},
   "outputs": [],
   "source": []
  }
 ],
 "metadata": {
  "kernelspec": {
   "display_name": "Python 3 (ipykernel)",
   "language": "python",
   "name": "python3"
  },
  "language_info": {
   "codemirror_mode": {
    "name": "ipython",
    "version": 3
   },
   "file_extension": ".py",
   "mimetype": "text/x-python",
   "name": "python",
   "nbconvert_exporter": "python",
   "pygments_lexer": "ipython3",
   "version": "3.9.13"
  }
 },
 "nbformat": 4,
 "nbformat_minor": 5
}
